{
 "cells": [
  {
   "cell_type": "markdown",
   "id": "71b62fdd",
   "metadata": {},
   "source": [
    "# initial data exploration\n"
   ]
  },
  {
   "cell_type": "code",
   "execution_count": 2,
   "id": "f3ef794a",
   "metadata": {},
   "outputs": [],
   "source": [
    "import sqlalchemy\n",
    "import pandas as pd\n",
    "import matplotlib.pyplot as plt\n",
    "import matplotlib.dates as mdates"
   ]
  },
  {
   "cell_type": "code",
   "execution_count": 3,
   "id": "78db6f44-2eba-4053-a203-a29e4da22c40",
   "metadata": {},
   "outputs": [],
   "source": [
    "connection = sqlalchemy.create_engine(\"postgresql://tcosse:mysecretpassword@db_container:5432/piscineds\")"
   ]
  },
  {
   "cell_type": "code",
   "execution_count": 4,
   "id": "deb71b4f",
   "metadata": {},
   "outputs": [],
   "source": [
    "data = pd.read_sql_query(\"SELECT event_time, user_id, price, user_session from customers where event_type = 'purchase'\", con=connection)"
   ]
  },
  {
   "cell_type": "markdown",
   "id": "b94e7974",
   "metadata": {},
   "source": [
    "## Line Chart"
   ]
  },
  {
   "cell_type": "code",
   "execution_count": 5,
   "id": "1d039f7a",
   "metadata": {},
   "outputs": [],
   "source": [
    "mean = data['price'].mean()\n",
    "count = data['price'].count()\n",
    "std = data['price'].std()\n",
    "min = data['price'].min()\n",
    "quart = data['price'].quantile(0.25)\n",
    "mid = data['price'].quantile(0.50)\n",
    "tier = data['price'].quantile(0.75)\n",
    "max = data['price'].max()"
   ]
  },
  {
   "cell_type": "code",
   "execution_count": 6,
   "id": "040c6029",
   "metadata": {},
   "outputs": [
    {
     "name": "stdout",
     "output_type": "stream",
     "text": [
      "1044216\n",
      "4.921001564810346\n",
      "8.854084680982037\n",
      "-79.37\n",
      "1.59\n",
      "3.0\n",
      "5.4\n",
      "327.78\n"
     ]
    }
   ],
   "source": [
    "print(count)\n",
    "print(mean)\n",
    "print(std)\n",
    "print(min)\n",
    "print(quart)\n",
    "print(mid)\n",
    "print(tier)\n",
    "print(max)"
   ]
  },
  {
   "cell_type": "code",
   "execution_count": null,
   "id": "9f488ea9",
   "metadata": {},
   "outputs": [],
   "source": [
    "averageBasket = data['price'].groupby([data['user_id'], data['user_session']]).sum()\n",
    "averageBasket = averageBasket.groupby(['user_id']).mean()\n",
    "#create table\n",
    "fig, axs = plt.subplots(1, 3, figsize=(8, 7), layout='constrained')\n",
    "#chart creation\n",
    "flierprops = dict(marker='o', markerfacecolor='grey', markersize=2,\n",
    "              markeredgecolor='grey')\n",
    "medianprops = dict(linestyle='-', color='black')\n",
    "box = axs[0].boxplot(data['price'], zorder=3, vert=False, medianprops = medianprops, flierprops=flierprops, patch_artist=True)\n",
    "for b in box['boxes']:\n",
    "    b.set_facecolor('darkseagreen')\n",
    "box = axs[1].boxplot(data['price'], zorder=3, vert=False, medianprops = medianprops, showfliers=False, patch_artist=True)\n",
    "for b in box['boxes']:\n",
    "    b.set_facecolor('darkseagreen')\n",
    "box = axs[2].boxplot(averageBasket.values, zorder=3, vert=False, medianprops = medianprops, flierprops=flierprops, patch_artist=True)\n",
    "for b in box['boxes']:\n",
    "    b.set_facecolor('darkseagreen')\n",
    "#config for all plot\n",
    "for ax in axs:\n",
    "    ax.set_xlabel('Price')\n",
    "    ax.set_yticks([])\n",
    "    ax.grid(True, zorder=0)\n",
    "#first mustache box\n",
    "ax = axs[0]\n",
    "#second mustache box\n",
    "ax = axs[1]\n",
    "ax.set_xlim(-0.75, 12.25 )\n",
    "ax.set_xticks(range(0, 14, 2))\n",
    "#third mustache box\n",
    "ax = axs[2]\n",
    "ax.set_xlim(-20, 120)\n",
    "#chart amount of soles per month\n",
    "#ax = axs[1]\n",
    "#ax.set_xticks(range(0, len(SolesPerMonth)), ['Oct', 'Nov', 'Dec', 'Jan'])\n",
    "#ax.set_ylabel('total sales in million of A')\n",
    "#ax.grid(axis='y', zorder=0)\n",
    "#chart average spend per customer\n",
    "#ax = axs[2]\n",
    "#ax.grid(True, zorder=0)\n",
    "#ax.set_ylabel('average spend/customers in A')\n",
    "plt.show()"
   ]
  }
 ],
 "metadata": {
  "kernelspec": {
   "display_name": "Python 3 (ipykernel)",
   "language": "python",
   "name": "python3"
  },
  "language_info": {
   "codemirror_mode": {
    "name": "ipython",
    "version": 3
   },
   "file_extension": ".py",
   "mimetype": "text/x-python",
   "name": "python",
   "nbconvert_exporter": "python",
   "pygments_lexer": "ipython3",
   "version": "3.8.19"
  }
 },
 "nbformat": 4,
 "nbformat_minor": 5
}
