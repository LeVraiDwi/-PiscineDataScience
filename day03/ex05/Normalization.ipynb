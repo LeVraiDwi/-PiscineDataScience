{
 "cells": [
  {
   "cell_type": "code",
   "execution_count": 2,
   "metadata": {},
   "outputs": [],
   "source": [
    "import sqlalchemy\n",
    "import pandas as pd\n",
    "import matplotlib.pyplot as plt\n",
    "import matplotlib.dates as mdates\n",
    "import numpy as np\n",
    "import matplotlib.ticker as ticker \n",
    "from sklearn.cluster import KMeans\n",
    "from datetime import datetime\n",
    "from pytz import timezone\n",
    "from sklearn.preprocessing import normalize\n",
    "from sklearn.model_selection import train_test_split\n",
    "from sklearn.preprocessing import StandardScaler"
   ]
  },
  {
   "cell_type": "code",
   "execution_count": 3,
   "metadata": {},
   "outputs": [],
   "source": [
    "dataTrain = pd.read_csv(\"/app/knight/Train_knight.csv\")"
   ]
  },
  {
   "cell_type": "code",
   "execution_count": 5,
   "metadata": {},
   "outputs": [
    {
     "name": "stdout",
     "output_type": "stream",
     "text": [
      "     Sensitivity  Hability  Strength  Power  Agility  Dexterity  Awareness  \\\n",
      "288       11.140     14.07     71.24  384.6  0.07274    0.06064    0.04505   \n",
      "162       13.430     19.63     85.84  565.4  0.09048    0.06288    0.05858   \n",
      "338       12.770     22.47     81.72  506.3  0.09055    0.05761    0.04711   \n",
      "138       11.080     18.83     73.30  361.6  0.12160    0.21540    0.16890   \n",
      "62        10.510     20.19     68.64  334.2  0.11220    0.13030    0.06476   \n",
      "..           ...       ...       ...    ...      ...        ...        ...   \n",
      "71        17.460     39.28    113.40  920.6  0.09812    0.12980    0.14170   \n",
      "106       12.540     16.32     81.25  476.3  0.11580    0.10850    0.05928   \n",
      "270        9.777     16.99     62.50  290.2  0.10370    0.08404    0.04334   \n",
      "348       16.160     21.54    106.20  809.8  0.10080    0.12840    0.10430   \n",
      "102       12.780     16.49     81.37  502.5  0.09831    0.05234    0.03653   \n",
      "\n",
      "     Prescience  Reactivity  Midi-chlorien  ...  Evade   Stims  Sprint  \\\n",
      "288     0.01471      0.1690        0.06083  ...  15.82   79.62   453.5   \n",
      "162     0.03438      0.1598        0.05671  ...  29.87  116.60   993.6   \n",
      "338     0.02704      0.1585        0.06065  ...  33.37   92.04   653.6   \n",
      "138     0.06367      0.2196        0.07950  ...  32.82   91.76   508.1   \n",
      "62      0.03068      0.1922        0.07782  ...  22.75   72.62   374.4   \n",
      "..          ...         ...            ...  ...    ...     ...     ...   \n",
      "71      0.08811      0.1809        0.05966  ...  44.87  141.20  1408.0   \n",
      "106     0.03279      0.1943        0.06612  ...  21.40   86.67   552.0   \n",
      "270     0.01778      0.1584        0.07065  ...  21.47   71.68   367.0   \n",
      "348     0.05613      0.2160        0.05891  ...  31.68  129.70  1175.0   \n",
      "102     0.02864      0.1590        0.05653  ...  19.76   85.67   554.9   \n",
      "\n",
      "       Combo    Delay  Attunement  Empowered   Burst  Grasping  knight  \n",
      "288  0.08864  0.12560      0.1201    0.03922  0.2576   0.07018    Sith  \n",
      "162  0.14010  0.15460      0.2644    0.11600  0.2884   0.07371    Jedi  \n",
      "338  0.14190  0.15230      0.2177    0.09331  0.2829   0.08067    Jedi  \n",
      "138  0.21840  0.93790      0.8402    0.25240  0.4154   0.14030    Jedi  \n",
      "62   0.13000  0.20490      0.1295    0.06136  0.2383   0.09026    Sith  \n",
      "..       ...      ...         ...        ...     ...       ...     ...  \n",
      "71   0.13650  0.37350      0.3241    0.20660  0.2853   0.08496    Jedi  \n",
      "106  0.15800  0.17510      0.1889    0.08411  0.3155   0.07538    Sith  \n",
      "270  0.14670  0.17650      0.1300    0.05334  0.2533   0.08468    Sith  \n",
      "348  0.13950  0.30550      0.2992    0.13120  0.3480   0.07619    Jedi  \n",
      "102  0.12960  0.07061      0.1039    0.05882  0.2383   0.06410    Sith  \n",
      "\n",
      "[99 rows x 31 columns]\n",
      "     Sensitivity  Hability  Strength  Power  Agility  Dexterity  Awareness  \\\n",
      "198       10.800      9.71     68.77  357.6  0.09594    0.05736    0.02531   \n",
      "396        9.876     19.40     63.95  298.3  0.10050    0.09697    0.06154   \n",
      "33        11.200     29.37     70.67  386.0  0.07449    0.03558    0.00000   \n",
      "208       11.540     10.72     73.73  409.1  0.08597    0.05969    0.01367   \n",
      "93        11.600     12.84     74.34  412.6  0.08983    0.07525    0.04196   \n",
      "..           ...       ...       ...    ...      ...        ...        ...   \n",
      "354       13.650     13.16     87.88  568.9  0.09646    0.08711    0.03888   \n",
      "27        15.190     13.21     97.65  711.8  0.07963    0.06934    0.03393   \n",
      "311        7.729     25.49     47.98  178.8  0.08098    0.04878    0.00000   \n",
      "230       12.860     13.32     82.82  504.8  0.11340    0.08834    0.03800   \n",
      "260       11.750     17.56     75.89  422.9  0.10730    0.09713    0.05282   \n",
      "\n",
      "     Prescience  Reactivity  Midi-chlorien  ...  Evade   Stims  Sprint  \\\n",
      "198    0.016980      0.1381        0.06400  ...  12.02   73.66   414.0   \n",
      "396    0.030290      0.1945        0.06322  ...  26.83   72.22   361.2   \n",
      "33     0.000000      0.1060        0.05502  ...  38.30   75.19   439.6   \n",
      "208    0.008907      0.1833        0.06100  ...  12.87   81.23   467.8   \n",
      "93     0.033500      0.1620        0.06582  ...  17.16   82.96   512.5   \n",
      "..          ...         ...            ...  ...    ...     ...     ...   \n",
      "354    0.025630      0.1360        0.06344  ...  16.35   99.71   706.2   \n",
      "27     0.026570      0.1721        0.05544  ...  15.73  104.50   819.1   \n",
      "311    0.000000      0.1870        0.07285  ...  30.92   57.17   248.0   \n",
      "230    0.034000      0.1543        0.06476  ...  21.08   92.80   599.5   \n",
      "260    0.044400      0.1598        0.06677  ...  27.98   88.52   552.3   \n",
      "\n",
      "       Combo    Delay  Attunement  Empowered   Burst  Grasping  knight  \n",
      "198  0.14360  0.12570     0.10470    0.04603  0.2090   0.07699    Sith  \n",
      "396  0.15590  0.23020     0.26440    0.09749  0.2622   0.08490    Sith  \n",
      "33   0.09267  0.05494     0.00000    0.00000  0.1566   0.05905    Sith  \n",
      "208  0.10920  0.16260     0.08324    0.04715  0.3390   0.07434    Sith  \n",
      "93   0.14310  0.18510     0.19220    0.08449  0.2772   0.08756    Sith  \n",
      "..       ...      ...         ...        ...     ...       ...     ...  \n",
      "354  0.13110  0.24740     0.17590    0.08056  0.2380   0.08718    Sith  \n",
      "27   0.11260  0.17370     0.13620    0.08178  0.2487   0.06766    Sith  \n",
      "311  0.12560  0.08340     0.00000    0.00000  0.3058   0.09938    Sith  \n",
      "230  0.15470  0.22310     0.17910    0.11550  0.2382   0.08553    Sith  \n",
      "260  0.13490  0.18540     0.13660    0.10100  0.2478   0.07757    Sith  \n",
      "\n",
      "[299 rows x 31 columns]\n"
     ]
    }
   ],
   "source": [
    "Training, Validation = train_test_split(dataTrain, train_size=0.25, random_state=42)\n",
    "\n",
    "print(Training)\n",
    "print(Validation)"
   ]
  },
  {
   "cell_type": "code",
   "execution_count": 7,
   "metadata": {},
   "outputs": [],
   "source": [
    "Training.to_csv(\"Training_knight.csv\", index=False)\n",
    "Validation.to_csv(\"Validation_knight.csv\", index=False)"
   ]
  }
 ],
 "metadata": {
  "kernelspec": {
   "display_name": "Python 3 (ipykernel)",
   "language": "python",
   "name": "python3"
  },
  "language_info": {
   "codemirror_mode": {
    "name": "ipython",
    "version": 3
   },
   "file_extension": ".py",
   "mimetype": "text/x-python",
   "name": "python",
   "nbconvert_exporter": "python",
   "pygments_lexer": "ipython3",
   "version": "3.8.20"
  }
 },
 "nbformat": 4,
 "nbformat_minor": 2
}
