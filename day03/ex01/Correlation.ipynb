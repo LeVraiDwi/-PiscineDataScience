{
 "cells": [
  {
   "cell_type": "code",
   "execution_count": 1,
   "metadata": {},
   "outputs": [],
   "source": [
    "import sqlalchemy\n",
    "import pandas as pd\n",
    "import matplotlib.pyplot as plt\n",
    "import matplotlib.dates as mdates\n",
    "import numpy as np\n",
    "import matplotlib.ticker as ticker \n",
    "from sklearn.cluster import KMeans\n",
    "from datetime import datetime\n",
    "from pytz import timezone"
   ]
  },
  {
   "cell_type": "code",
   "execution_count": 2,
   "metadata": {},
   "outputs": [],
   "source": [
    "dataTrain = pd.read_csv(\"/app/knight/Train_knight.csv\")"
   ]
  },
  {
   "cell_type": "code",
   "execution_count": 3,
   "metadata": {},
   "outputs": [],
   "source": [
    "knight = dataTrain.groupby('knight').apply(lambda x : x)"
   ]
  },
  {
   "cell_type": "code",
   "execution_count": 4,
   "metadata": {},
   "outputs": [
    {
     "name": "stdout",
     "output_type": "stream",
     "text": [
      "knight           1.000000\n",
      "Empowered        0.793652\n",
      "Prescience       0.790066\n",
      "Stims            0.786797\n",
      "Recovery         0.777633\n",
      "Sprint           0.739672\n",
      "Strength         0.737403\n",
      "Sensitivity      0.721566\n",
      "Power            0.700709\n",
      "Awareness        0.699662\n",
      "Attunement       0.648893\n",
      "Dexterity        0.631987\n",
      "Delay            0.598072\n",
      "Slash            0.550663\n",
      "Pull             0.537800\n",
      "Lightsaber       0.515340\n",
      "Evade            0.465605\n",
      "Hability         0.446632\n",
      "Burst            0.445847\n",
      "Combo            0.445223\n",
      "Blocking         0.421950\n",
      "Agility          0.397458\n",
      "Reactivity       0.375103\n",
      "Grasping         0.350105\n",
      "Repulse          0.324399\n",
      "Friendship       0.236633\n",
      "Mass             0.113185\n",
      "Midi-chlorien    0.008132\n",
      "Push            -0.019446\n",
      "Deflection      -0.026489\n",
      "Survival        -0.043099\n",
      "Name: knight, dtype: float64\n"
     ]
    }
   ],
   "source": [
    "cor = knight.replace({'knight': 'Jedi'}, 1)\n",
    "cor = cor.replace({'knight': 'Sith'}, 0)\n",
    "\n",
    "cor = cor.corr()\n",
    "\n",
    "cor = cor.sort_values(by='knight',ascending=False)\n",
    "\n",
    "print(cor['knight'])"
   ]
  }
 ],
 "metadata": {
  "kernelspec": {
   "display_name": "Python 3 (ipykernel)",
   "language": "python",
   "name": "python3"
  },
  "language_info": {
   "codemirror_mode": {
    "name": "ipython",
    "version": 3
   },
   "file_extension": ".py",
   "mimetype": "text/x-python",
   "name": "python",
   "nbconvert_exporter": "python",
   "pygments_lexer": "ipython3",
   "version": "3.8.20"
  }
 },
 "nbformat": 4,
 "nbformat_minor": 2
}
