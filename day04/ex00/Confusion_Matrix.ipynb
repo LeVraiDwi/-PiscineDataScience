{
 "cells": [
  {
   "cell_type": "code",
   "execution_count": 15,
   "metadata": {},
   "outputs": [],
   "source": [
    "import sqlalchemy\n",
    "import pandas as pd\n",
    "import matplotlib.pyplot as plt\n",
    "import matplotlib.dates as mdates\n",
    "import numpy as np\n",
    "import matplotlib.ticker as ticker \n",
    "from sklearn.cluster import KMeans\n",
    "from datetime import datetime\n",
    "from pytz import timezone"
   ]
  },
  {
   "cell_type": "code",
   "execution_count": 16,
   "metadata": {},
   "outputs": [],
   "source": [
    "file = open('/app/knight/truth.txt','r')"
   ]
  },
  {
   "cell_type": "code",
   "execution_count": 17,
   "metadata": {},
   "outputs": [],
   "source": [
    "content = file.readlines()\n",
    "truth = [content[x].rstrip() for x in range(len(content))]\n",
    "truthJedi = [truth[x] for x in range(len(content)) if truth[x] == 'Jedi']\n",
    "truthSith = [truth[x] for x in range(len(content)) if truth[x] == 'Sith']\n",
    "\n",
    "file.close()"
   ]
  },
  {
   "cell_type": "code",
   "execution_count": 18,
   "metadata": {},
   "outputs": [
    {
     "name": "stdout",
     "output_type": "stream",
     "text": [
      "100\n",
      "['Jedi', 'Jedi', 'Sith', 'Sith', 'Jedi', 'Sith', 'Jedi', 'Sith', 'Sith', 'Sith', 'Sith', 'Sith', 'Jedi', 'Jedi', 'Sith', 'Jedi', 'Jedi', 'Sith', 'Jedi', 'Jedi', 'Jedi', 'Sith', 'Sith', 'Jedi', 'Sith', 'Sith', 'Sith', 'Sith', 'Jedi', 'Jedi', 'Jedi', 'Sith', 'Sith', 'Sith', 'Sith', 'Jedi', 'Jedi', 'Jedi', 'Sith', 'Jedi', 'Sith', 'Jedi', 'Jedi', 'Sith', 'Jedi', 'Jedi', 'Jedi', 'Sith', 'Jedi', 'Jedi', 'Sith', 'Jedi', 'Sith', 'Jedi', 'Jedi', 'Sith', 'Sith', 'Jedi', 'Jedi', 'Jedi', 'Sith', 'Jedi', 'Sith', 'Jedi', 'Jedi', 'Jedi', 'Sith', 'Jedi', 'Sith', 'Jedi', 'Sith', 'Sith', 'Jedi', 'Sith', 'Sith', 'Sith', 'Jedi', 'Sith', 'Jedi', 'Jedi', 'Sith', 'Jedi', 'Sith', 'Sith', 'Sith', 'Jedi', 'Jedi', 'Jedi', 'Jedi', 'Sith', 'Jedi', 'Sith', 'Sith', 'Sith', 'Sith', 'Sith', 'Sith', 'Sith', 'Jedi', 'Sith']\n",
      "51\n",
      "49\n"
     ]
    }
   ],
   "source": [
    "print(len(truth))\n",
    "print(truth)\n",
    "print(len(truthSith))\n",
    "print(len(truthJedi))"
   ]
  },
  {
   "cell_type": "code",
   "execution_count": 19,
   "metadata": {},
   "outputs": [],
   "source": [
    "file = open('/app/knight/predictions.txt','r')"
   ]
  },
  {
   "cell_type": "code",
   "execution_count": 20,
   "metadata": {},
   "outputs": [
    {
     "name": "stdout",
     "output_type": "stream",
     "text": [
      "['Sith\\n', 'Sith\\n', 'Jedi\\n', 'Sith\\n', 'Jedi\\n', 'Jedi\\n', 'Sith\\n', 'Sith\\n', 'Sith\\n', 'Jedi\\n', 'Jedi\\n', 'Jedi\\n', 'Jedi\\n', 'Sith\\n', 'Jedi\\n', 'Jedi\\n', 'Jedi\\n', 'Sith\\n', 'Sith\\n', 'Sith\\n', 'Jedi\\n', 'Jedi\\n', 'Sith\\n', 'Jedi\\n', 'Jedi\\n', 'Jedi\\n', 'Sith\\n', 'Jedi\\n', 'Jedi\\n', 'Sith\\n', 'Jedi\\n', 'Sith\\n', 'Jedi\\n', 'Sith\\n', 'Jedi\\n', 'Jedi\\n', 'Jedi\\n', 'Sith\\n', 'Jedi\\n', 'Sith\\n', 'Sith\\n', 'Jedi\\n', 'Sith\\n', 'Sith\\n', 'Jedi\\n', 'Sith\\n', 'Jedi\\n', 'Jedi\\n', 'Sith\\n', 'Sith\\n', 'Jedi\\n', 'Sith\\n', 'Jedi\\n', 'Jedi\\n', 'Sith\\n', 'Jedi\\n', 'Jedi\\n', 'Jedi\\n', 'Jedi\\n', 'Sith\\n', 'Jedi\\n', 'Sith\\n', 'Sith\\n', 'Jedi\\n', 'Jedi\\n', 'Sith\\n', 'Jedi\\n', 'Sith\\n', 'Sith\\n', 'Jedi\\n', 'Jedi\\n', 'Sith\\n', 'Jedi\\n', 'Jedi\\n', 'Jedi\\n', 'Sith\\n', 'Sith\\n', 'Sith\\n', 'Jedi\\n', 'Sith\\n', 'Jedi\\n', 'Jedi\\n', 'Sith\\n', 'Jedi\\n', 'Sith\\n', 'Sith\\n', 'Jedi\\n', 'Jedi\\n', 'Sith\\n', 'Sith\\n', 'Jedi\\n', 'Sith\\n', 'Jedi\\n', 'Jedi\\n', 'Sith\\n', 'Sith\\n', 'Jedi\\n', 'Jedi\\n', 'Sith\\n', 'Jedi']\n"
     ]
    }
   ],
   "source": [
    "content = file.readlines()\n",
    "print(content)\n",
    "pred = [content[x].rstrip() for x in range(len(content))]\n",
    "predJedi = [pred[x] for x in range(len(content)) if pred[x] == 'Jedi']\n",
    "predSith = [pred[x] for x in range(len(content)) if pred[x] == 'Sith']\n",
    "\n",
    "file.close()"
   ]
  },
  {
   "cell_type": "code",
   "execution_count": 21,
   "metadata": {},
   "outputs": [
    {
     "name": "stdout",
     "output_type": "stream",
     "text": [
      "100\n",
      "['Sith', 'Sith', 'Jedi', 'Sith', 'Jedi', 'Jedi', 'Sith', 'Sith', 'Sith', 'Jedi', 'Jedi', 'Jedi', 'Jedi', 'Sith', 'Jedi', 'Jedi', 'Jedi', 'Sith', 'Sith', 'Sith', 'Jedi', 'Jedi', 'Sith', 'Jedi', 'Jedi', 'Jedi', 'Sith', 'Jedi', 'Jedi', 'Sith', 'Jedi', 'Sith', 'Jedi', 'Sith', 'Jedi', 'Jedi', 'Jedi', 'Sith', 'Jedi', 'Sith', 'Sith', 'Jedi', 'Sith', 'Sith', 'Jedi', 'Sith', 'Jedi', 'Jedi', 'Sith', 'Sith', 'Jedi', 'Sith', 'Jedi', 'Jedi', 'Sith', 'Jedi', 'Jedi', 'Jedi', 'Jedi', 'Sith', 'Jedi', 'Sith', 'Sith', 'Jedi', 'Jedi', 'Sith', 'Jedi', 'Sith', 'Sith', 'Jedi', 'Jedi', 'Sith', 'Jedi', 'Jedi', 'Jedi', 'Sith', 'Sith', 'Sith', 'Jedi', 'Sith', 'Jedi', 'Jedi', 'Sith', 'Jedi', 'Sith', 'Sith', 'Jedi', 'Jedi', 'Sith', 'Sith', 'Jedi', 'Sith', 'Jedi', 'Jedi', 'Sith', 'Sith', 'Jedi', 'Jedi', 'Sith', 'Jedi']\n",
      "55\n",
      "45\n"
     ]
    }
   ],
   "source": [
    "print(len(pred))\n",
    "print(pred)\n",
    "print(len(predJedi))\n",
    "print(len(predSith))"
   ]
  },
  {
   "cell_type": "code",
   "execution_count": 22,
   "metadata": {},
   "outputs": [],
   "source": [
    "compileData = pd.DataFrame({'Truth': truth,'Prediction': pred})"
   ]
  },
  {
   "cell_type": "code",
   "execution_count": 28,
   "metadata": {},
   "outputs": [
    {
     "name": "stdout",
     "output_type": "stream",
     "text": [
      "30\n",
      "24\n",
      "[[25, 30], [24, 21]]\n"
     ]
    }
   ],
   "source": [
    "jediNegatif = 0\n",
    "sithNegatif = 0\n",
    "\n",
    "for i in range(len(compileData['Prediction'])):\n",
    "    if (compileData['Prediction'][i] != compileData['Truth'][i]):\n",
    "        if (compileData['Prediction'][i] == 'Jedi'):\n",
    "            jediNegatif += 1\n",
    "        else:\n",
    "            sithNegatif += 1\n",
    "\n",
    "print(jediNegatif)\n",
    "print(sithNegatif)\n",
    "\n",
    "confusionMatrix = [[len(predJedi) - jediNegatif, jediNegatif], [sithNegatif, len(predSith) - sithNegatif]]\n",
    "\n",
    "print(confusionMatrix)"
   ]
  },
  {
   "cell_type": "code",
   "execution_count": 30,
   "metadata": {},
   "outputs": [
    {
     "name": "stdout",
     "output_type": "stream",
     "text": [
      "0.45454545454545453\n",
      "0.4666666666666667\n"
     ]
    }
   ],
   "source": [
    "precisionPos = confusionMatrix[0][0] / len(predJedi)\n",
    "\n",
    "precisionNeg = confusionMatrix[1][1] / len(predSith)\n",
    "\n",
    "print(precisionPos)\n",
    "print(precisionNeg)"
   ]
  },
  {
   "cell_type": "code",
   "execution_count": null,
   "metadata": {},
   "outputs": [],
   "source": [
    "recallPos = confusionMatrix[0][0] / len(truthJedi)\n",
    "recallNeg = confusionMatrix[1][1] / len(truthSith)"
   ]
  }
 ],
 "metadata": {
  "kernelspec": {
   "display_name": "Python 3 (ipykernel)",
   "language": "python",
   "name": "python3"
  },
  "language_info": {
   "codemirror_mode": {
    "name": "ipython",
    "version": 3
   },
   "file_extension": ".py",
   "mimetype": "text/x-python",
   "name": "python",
   "nbconvert_exporter": "python",
   "pygments_lexer": "ipython3",
   "version": "3.8.20"
  }
 },
 "nbformat": 4,
 "nbformat_minor": 2
}
