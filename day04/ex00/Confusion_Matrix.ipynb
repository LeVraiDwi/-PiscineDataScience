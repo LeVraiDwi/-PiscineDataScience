{
 "cells": [
  {
   "cell_type": "code",
   "execution_count": 18,
   "metadata": {},
   "outputs": [],
   "source": [
    "import sqlalchemy\n",
    "import pandas as pd\n",
    "import matplotlib.pyplot as plt\n",
    "import matplotlib.dates as mdates\n",
    "import numpy as np\n",
    "import matplotlib.ticker as ticker \n",
    "from sklearn.cluster import KMeans\n",
    "from datetime import datetime\n",
    "from pytz import timezone"
   ]
  },
  {
   "cell_type": "code",
   "execution_count": 19,
   "metadata": {},
   "outputs": [],
   "source": [
    "file = open('/app/knight/truth.txt','r')"
   ]
  },
  {
   "cell_type": "code",
   "execution_count": 20,
   "metadata": {},
   "outputs": [],
   "source": [
    "content = file.readlines()\n",
    "truth = [content[x].rstrip() for x in range(len(content))]\n",
    "truthJedi = [truth[x] for x in range(len(content)) if truth[x] == 'Jedi']\n",
    "truthSith = [truth[x] for x in range(len(content)) if truth[x] == 'Sith']\n",
    "\n",
    "file.close()"
   ]
  },
  {
   "cell_type": "code",
   "execution_count": 21,
   "metadata": {},
   "outputs": [
    {
     "name": "stdout",
     "output_type": "stream",
     "text": [
      "100\n",
      "['Jedi', 'Jedi', 'Sith', 'Sith', 'Jedi', 'Sith', 'Jedi', 'Sith', 'Sith', 'Sith', 'Sith', 'Sith', 'Jedi', 'Jedi', 'Sith', 'Jedi', 'Jedi', 'Sith', 'Jedi', 'Jedi', 'Jedi', 'Sith', 'Sith', 'Jedi', 'Sith', 'Sith', 'Sith', 'Sith', 'Jedi', 'Jedi', 'Jedi', 'Sith', 'Sith', 'Sith', 'Sith', 'Jedi', 'Jedi', 'Jedi', 'Sith', 'Jedi', 'Sith', 'Jedi', 'Jedi', 'Sith', 'Jedi', 'Jedi', 'Jedi', 'Sith', 'Jedi', 'Jedi', 'Sith', 'Jedi', 'Sith', 'Jedi', 'Jedi', 'Sith', 'Sith', 'Jedi', 'Jedi', 'Jedi', 'Sith', 'Jedi', 'Sith', 'Jedi', 'Jedi', 'Jedi', 'Sith', 'Jedi', 'Sith', 'Jedi', 'Sith', 'Sith', 'Jedi', 'Sith', 'Sith', 'Sith', 'Jedi', 'Sith', 'Jedi', 'Jedi', 'Sith', 'Jedi', 'Sith', 'Sith', 'Sith', 'Jedi', 'Jedi', 'Jedi', 'Jedi', 'Sith', 'Jedi', 'Sith', 'Sith', 'Sith', 'Sith', 'Sith', 'Sith', 'Sith', 'Jedi', 'Sith']\n",
      "51\n",
      "49\n"
     ]
    }
   ],
   "source": [
    "print(len(truth))\n",
    "print(truth)\n",
    "print(len(truthSith))\n",
    "print(len(truthJedi))"
   ]
  },
  {
   "cell_type": "code",
   "execution_count": 22,
   "metadata": {},
   "outputs": [],
   "source": [
    "file = open('/app/knight/predictions.txt','r')"
   ]
  },
  {
   "cell_type": "code",
   "execution_count": 23,
   "metadata": {},
   "outputs": [
    {
     "name": "stdout",
     "output_type": "stream",
     "text": [
      "['Sith\\n', 'Sith\\n', 'Jedi\\n', 'Sith\\n', 'Jedi\\n', 'Jedi\\n', 'Sith\\n', 'Sith\\n', 'Sith\\n', 'Jedi\\n', 'Jedi\\n', 'Jedi\\n', 'Jedi\\n', 'Sith\\n', 'Jedi\\n', 'Jedi\\n', 'Jedi\\n', 'Sith\\n', 'Sith\\n', 'Sith\\n', 'Jedi\\n', 'Jedi\\n', 'Sith\\n', 'Jedi\\n', 'Jedi\\n', 'Jedi\\n', 'Sith\\n', 'Jedi\\n', 'Jedi\\n', 'Sith\\n', 'Jedi\\n', 'Sith\\n', 'Jedi\\n', 'Sith\\n', 'Jedi\\n', 'Jedi\\n', 'Jedi\\n', 'Sith\\n', 'Jedi\\n', 'Sith\\n', 'Sith\\n', 'Jedi\\n', 'Sith\\n', 'Sith\\n', 'Jedi\\n', 'Sith\\n', 'Jedi\\n', 'Jedi\\n', 'Sith\\n', 'Sith\\n', 'Jedi\\n', 'Sith\\n', 'Jedi\\n', 'Jedi\\n', 'Sith\\n', 'Jedi\\n', 'Jedi\\n', 'Jedi\\n', 'Jedi\\n', 'Sith\\n', 'Jedi\\n', 'Sith\\n', 'Sith\\n', 'Jedi\\n', 'Jedi\\n', 'Sith\\n', 'Jedi\\n', 'Sith\\n', 'Sith\\n', 'Jedi\\n', 'Jedi\\n', 'Sith\\n', 'Jedi\\n', 'Jedi\\n', 'Jedi\\n', 'Sith\\n', 'Sith\\n', 'Sith\\n', 'Jedi\\n', 'Sith\\n', 'Jedi\\n', 'Jedi\\n', 'Sith\\n', 'Jedi\\n', 'Sith\\n', 'Sith\\n', 'Jedi\\n', 'Jedi\\n', 'Sith\\n', 'Sith\\n', 'Jedi\\n', 'Sith\\n', 'Jedi\\n', 'Jedi\\n', 'Sith\\n', 'Sith\\n', 'Jedi\\n', 'Jedi\\n', 'Sith\\n', 'Jedi']\n"
     ]
    }
   ],
   "source": [
    "content = file.readlines()\n",
    "print(content)\n",
    "pred = [content[x].rstrip() for x in range(len(content))]\n",
    "predJedi = [pred[x] for x in range(len(content)) if pred[x] == 'Jedi']\n",
    "predSith = [pred[x] for x in range(len(content)) if pred[x] == 'Sith']\n",
    "\n",
    "file.close()"
   ]
  },
  {
   "cell_type": "code",
   "execution_count": 24,
   "metadata": {},
   "outputs": [
    {
     "name": "stdout",
     "output_type": "stream",
     "text": [
      "100\n",
      "['Sith', 'Sith', 'Jedi', 'Sith', 'Jedi', 'Jedi', 'Sith', 'Sith', 'Sith', 'Jedi', 'Jedi', 'Jedi', 'Jedi', 'Sith', 'Jedi', 'Jedi', 'Jedi', 'Sith', 'Sith', 'Sith', 'Jedi', 'Jedi', 'Sith', 'Jedi', 'Jedi', 'Jedi', 'Sith', 'Jedi', 'Jedi', 'Sith', 'Jedi', 'Sith', 'Jedi', 'Sith', 'Jedi', 'Jedi', 'Jedi', 'Sith', 'Jedi', 'Sith', 'Sith', 'Jedi', 'Sith', 'Sith', 'Jedi', 'Sith', 'Jedi', 'Jedi', 'Sith', 'Sith', 'Jedi', 'Sith', 'Jedi', 'Jedi', 'Sith', 'Jedi', 'Jedi', 'Jedi', 'Jedi', 'Sith', 'Jedi', 'Sith', 'Sith', 'Jedi', 'Jedi', 'Sith', 'Jedi', 'Sith', 'Sith', 'Jedi', 'Jedi', 'Sith', 'Jedi', 'Jedi', 'Jedi', 'Sith', 'Sith', 'Sith', 'Jedi', 'Sith', 'Jedi', 'Jedi', 'Sith', 'Jedi', 'Sith', 'Sith', 'Jedi', 'Jedi', 'Sith', 'Sith', 'Jedi', 'Sith', 'Jedi', 'Jedi', 'Sith', 'Sith', 'Jedi', 'Jedi', 'Sith', 'Jedi']\n",
      "55\n",
      "45\n"
     ]
    }
   ],
   "source": [
    "print(len(pred))\n",
    "print(pred)\n",
    "print(len(predJedi))\n",
    "print(len(predSith))"
   ]
  },
  {
   "cell_type": "code",
   "execution_count": 25,
   "metadata": {},
   "outputs": [],
   "source": [
    "compileData = pd.DataFrame({'Truth': truth,'Prediction': pred})"
   ]
  },
  {
   "cell_type": "code",
   "execution_count": 26,
   "metadata": {},
   "outputs": [
    {
     "name": "stdout",
     "output_type": "stream",
     "text": [
      "30\n",
      "24\n",
      "[[25, 24], [30, 21]]\n"
     ]
    }
   ],
   "source": [
    "jediNegatif = 0\n",
    "sithNegatif = 0\n",
    "\n",
    "for i in range(len(compileData['Prediction'])):\n",
    "    if (compileData['Prediction'][i] != compileData['Truth'][i]):\n",
    "        if (compileData['Prediction'][i] == 'Jedi'):\n",
    "            jediNegatif += 1\n",
    "        else:\n",
    "            sithNegatif += 1\n",
    "\n",
    "print(jediNegatif)\n",
    "print(sithNegatif)\n",
    "\n",
    "confusionMatrix = [[len(predJedi) - jediNegatif, sithNegatif], [jediNegatif, len(predSith) - sithNegatif]]\n",
    "\n",
    "print(confusionMatrix)"
   ]
  },
  {
   "cell_type": "code",
   "execution_count": 27,
   "metadata": {},
   "outputs": [
    {
     "data": {
      "image/png": "[encoded data removed]",
      "text/plain": [
       "<Figure size 640x480 with 2 Axes>"
      ]
     },
     "metadata": {},
     "output_type": "display_data"
    }
   ],
   "source": [
    "map = plt.imshow( confusionMatrix )\n",
    "\n",
    "plt.xticks(range(2))\n",
    "plt.yticks(range(2))\n",
    "plt.title( \"2-D Heat Map\" )\n",
    "plt.colorbar(map)\n",
    "plt.title('')\n",
    "plt.show() "
   ]
  },
  {
   "cell_type": "code",
   "execution_count": 28,
   "metadata": {},
   "outputs": [
    {
     "name": "stdout",
     "output_type": "stream",
     "text": [
      "0.45454545454545453\n",
      "0.4666666666666667\n"
     ]
    }
   ],
   "source": [
    "precisionPos = confusionMatrix[0][0] / len(predJedi)\n",
    "\n",
    "precisionNeg = confusionMatrix[1][1] / len(predSith)\n",
    "\n",
    "print(precisionPos)\n",
    "print(precisionNeg)"
   ]
  },
  {
   "cell_type": "code",
   "execution_count": 29,
   "metadata": {},
   "outputs": [
    {
     "name": "stdout",
     "output_type": "stream",
     "text": [
      "0.5102040816326531\n",
      "0.4117647058823529\n"
     ]
    }
   ],
   "source": [
    "recallPos = confusionMatrix[0][0] / len(truthJedi)\n",
    "recallNeg = confusionMatrix[1][1] / len(truthSith)\n",
    "\n",
    "print(recallPos)\n",
    "print(recallNeg)"
   ]
  },
  {
   "cell_type": "code",
   "execution_count": 30,
   "metadata": {},
   "outputs": [
    {
     "name": "stdout",
     "output_type": "stream",
     "text": [
      "0.4807692307692308\n",
      "0.43749999999999994\n"
     ]
    }
   ],
   "source": [
    "fscorePos = (2 * precisionPos * recallPos) / (precisionPos + recallPos)\n",
    "fscoreNeg = (2 * precisionNeg * recallNeg) / (precisionNeg + recallNeg)\n",
    "\n",
    "print(fscorePos)\n",
    "print(fscoreNeg)"
   ]
  },
  {
   "cell_type": "code",
   "execution_count": 31,
   "metadata": {},
   "outputs": [
    {
     "name": "stdout",
     "output_type": "stream",
     "text": [
      "49\n",
      "51\n"
     ]
    }
   ],
   "source": [
    "totalPos = len(truthJedi)\n",
    "totalNeg = len(truthSith)\n",
    "\n",
    "print(totalPos)\n",
    "print(totalNeg)"
   ]
  },
  {
   "cell_type": "code",
   "execution_count": 32,
   "metadata": {},
   "outputs": [
    {
     "name": "stdout",
     "output_type": "stream",
     "text": [
      "0.46\n"
     ]
    }
   ],
   "source": [
    "accuracy = (confusionMatrix[0][0] + confusionMatrix[1][1]) / (len(truthJedi) + len(truthSith))\n",
    "\n",
    "print(accuracy)"
   ]
  },
  {
   "cell_type": "code",
   "execution_count": 33,
   "metadata": {},
   "outputs": [
    {
     "name": "stdout",
     "output_type": "stream",
     "text": [
      "      Precision  Recall  f1-score\n",
      "Jedi       0.45    0.51      0.48\n",
      "Sith       0.47    0.41      0.44\n",
      "Global Accuracy: 0.46\n"
     ]
    }
   ],
   "source": [
    "resultTable = pd.DataFrame([[round(precisionPos, 2), round(recallPos, 2), round(fscorePos, 2)], [round(precisionNeg, 2), round(recallNeg, 2), round(fscoreNeg, 2)]], columns=['Precision', 'Recall', 'f1-score'], index=['Jedi', 'Sith'])\n",
    "\n",
    "print(resultTable)\n",
    "print(f'Global Accuracy: {accuracy}')"
   ]
  }
 ],
 "metadata": {
  "kernelspec": {
   "display_name": "Python 3 (ipykernel)",
   "language": "python",
   "name": "python3"
  }
 },
 "nbformat": 4,
 "nbformat_minor": 2
}
