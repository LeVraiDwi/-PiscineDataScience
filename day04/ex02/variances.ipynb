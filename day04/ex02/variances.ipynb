{
 "cells": [
  {
   "cell_type": "code",
   "execution_count": 32,
   "metadata": {},
   "outputs": [],
   "source": [
    "import sqlalchemy\n",
    "import pandas as pd\n",
    "import matplotlib.pyplot as plt\n",
    "import matplotlib.dates as mdates\n",
    "import numpy as np\n",
    "import matplotlib.ticker as ticker \n",
    "from sklearn.cluster import KMeans\n",
    "from datetime import datetime\n",
    "from pytz import timezone\n",
    "import seaborn as sn\n",
    "from sklearn.preprocessing import StandardScaler\n",
    "from sklearn.decomposition import PCA "
   ]
  },
  {
   "cell_type": "code",
   "execution_count": 33,
   "metadata": {},
   "outputs": [
    {
     "name": "stdout",
     "output_type": "stream",
     "text": [
      "     Sensitivity  Hability  Strength   Power  Agility  Dexterity  Awareness  \\\n",
      "0         11.420     20.38     77.58   386.1  0.14250    0.28390    0.24140   \n",
      "1         18.250     19.98    119.60  1040.0  0.09463    0.10900    0.11270   \n",
      "2         14.680     20.13     94.74   684.5  0.09867    0.07200    0.07395   \n",
      "3         13.540     14.36     87.46   566.3  0.09779    0.08129    0.06664   \n",
      "4         15.340     14.26    102.50   704.4  0.10730    0.21350    0.20770   \n",
      "..           ...       ...       ...     ...      ...        ...        ...   \n",
      "166        9.423     27.88     59.26   271.3  0.08123    0.04971    0.00000   \n",
      "167       14.590     22.68     96.39   657.1  0.08473    0.13300    0.10290   \n",
      "168       20.920     25.09    143.00  1347.0  0.10990    0.22360    0.31740   \n",
      "169       16.600     28.08    108.30   858.1  0.08455    0.10230    0.09251   \n",
      "170        7.760     24.54     47.92   181.0  0.05263    0.04362    0.00000   \n",
      "\n",
      "     Prescience  Reactivity  Midi-chlorien  ...  Recovery  Evade   Stims  \\\n",
      "0       0.10520      0.2597        0.09744  ...    14.910  26.50   98.87   \n",
      "1       0.07400      0.1794        0.05742  ...    22.880  27.66  153.20   \n",
      "2       0.05259      0.1586        0.05922  ...    19.070  30.88  123.40   \n",
      "3       0.04781      0.1885        0.05766  ...    15.110  19.26   99.70   \n",
      "4       0.09756      0.2521        0.07032  ...    18.070  19.08  125.10   \n",
      "..          ...         ...            ...  ...       ...    ...     ...   \n",
      "166     0.00000      0.1742        0.06059  ...    10.490  34.24   66.50   \n",
      "167     0.03736      0.1454        0.06147  ...    15.480  27.27  105.90   \n",
      "168     0.14740      0.2149        0.06879  ...    24.290  29.41  179.10   \n",
      "169     0.05302      0.1590        0.05648  ...    18.980  34.12  126.70   \n",
      "170     0.00000      0.1587        0.05884  ...     9.456  30.37   59.16   \n",
      "\n",
      "     Sprint    Combo    Delay  Attunement  Empowered   Burst  Grasping  \n",
      "0     567.7  0.20980  0.86630      0.6869     0.2575  0.6638   0.17300  \n",
      "1    1606.0  0.14420  0.25760      0.3784     0.1932  0.3063   0.08368  \n",
      "2    1138.0  0.14640  0.18710      0.2914     0.1609  0.3029   0.08216  \n",
      "3     711.2  0.14400  0.17730      0.2390     0.1288  0.2977   0.07259  \n",
      "4     980.9  0.13900  0.59540      0.6305     0.2393  0.4667   0.09946  \n",
      "..      ...      ...      ...         ...        ...     ...       ...  \n",
      "166   330.6  0.10730  0.07158      0.0000     0.0000  0.2475   0.06969  \n",
      "167   733.5  0.10260  0.31710      0.3662     0.1105  0.2258   0.08004  \n",
      "168  1819.0  0.14070  0.41860      0.6599     0.2542  0.2929   0.09873  \n",
      "169  1124.0  0.11390  0.30940      0.3403     0.1418  0.2218   0.07820  \n",
      "170   268.6  0.08996  0.06444      0.0000     0.0000  0.2871   0.07039  \n",
      "\n",
      "[171 rows x 30 columns]\n"
     ]
    }
   ],
   "source": [
    "data = pd.read_csv('/app/knight/Test_knight.csv')\n",
    "\n",
    "print(data)"
   ]
  },
  {
   "cell_type": "code",
   "execution_count": 34,
   "metadata": {},
   "outputs": [
    {
     "name": "stdout",
     "output_type": "stream",
     "text": [
      "Sensitivity          14.132881\n",
      "Hability             21.251915\n",
      "Strength            675.999600\n",
      "Power            145277.392861\n",
      "Agility               0.000229\n",
      "Dexterity             0.003237\n",
      "Awareness             0.006648\n",
      "Prescience            0.001717\n",
      "Reactivity            0.000859\n",
      "Midi-chlorien         0.000064\n",
      "Slash                 0.065219\n",
      "Push                  0.308469\n",
      "Pull                  3.369613\n",
      "Lightsaber         1620.559298\n",
      "Survival              0.000010\n",
      "Repulse               0.000424\n",
      "Friendship            0.000675\n",
      "Blocking              0.000037\n",
      "Deflection            0.000100\n",
      "Mass                  0.000008\n",
      "Recovery             27.475459\n",
      "Evade                42.326589\n",
      "Stims              1318.103509\n",
      "Sprint           408283.903926\n",
      "Combo                 0.000517\n",
      "Delay                 0.022674\n",
      "Attunement            0.036849\n",
      "Empowered             0.004436\n",
      "Burst                 0.004971\n",
      "Grasping              0.000293\n",
      "dtype: float64\n",
      "557284.9730849315\n"
     ]
    }
   ],
   "source": [
    "data = data.replace({'knight': 'Jedi'}, 1)\n",
    "data = data.replace({'knight': 'Sith'}, 0)\n",
    "\n",
    "sumVar = data.var().sum()\n",
    "var = data.var()\n",
    "\n",
    "print(var)\n",
    "print(sumVar)"
   ]
  },
  {
   "cell_type": "code",
   "execution_count": 35,
   "metadata": {},
   "outputs": [
    {
     "name": "stdout",
     "output_type": "stream",
     "text": [
      "[0.45325397 0.20918077 0.08988223 0.06354561 0.0540255  0.04104506\n",
      " 0.01970586 0.01248169 0.0099581  0.00864213 0.00842696 0.0070612\n",
      " 0.00613493 0.00460575 0.00259258]\n"
     ]
    }
   ],
   "source": [
    "object= StandardScaler()\n",
    "\n",
    "data = object.fit_transform(data)\n",
    "pca = PCA(0.99)\n",
    "pc = pca.fit_transform(data)\n",
    "\n",
    "print(pca.explained_variance_ratio_)"
   ]
  },
  {
   "cell_type": "code",
   "execution_count": 36,
   "metadata": {},
   "outputs": [],
   "source": [
    "# Calculate the cumulative explained variance\n",
    "cumulative_variance_ratio = np.cumsum(pca.explained_variance_ratio_)"
   ]
  },
  {
   "cell_type": "code",
   "execution_count": 37,
   "metadata": {},
   "outputs": [],
   "source": [
    "# Determine the number of components to keep for 85% variance explained\n",
    "n_components = np.argmax(cumulative_variance_ratio >= 0.99) + 1"
   ]
  },
  {
   "cell_type": "code",
   "execution_count": 38,
   "metadata": {},
   "outputs": [
    {
     "name": "stdout",
     "output_type": "stream",
     "text": [
      "[0.45325397 0.66243475 0.75231697 0.81586258 0.86988808 0.91093313\n",
      " 0.93063899 0.94312068 0.95307878 0.9617209  0.97014786 0.97720906\n",
      " 0.98334399 0.98794974 0.99054232 0.99281561 0.99420962 0.99544428\n",
      " 0.99646749 0.99717884 0.99785043 0.99845152 0.99898728 0.99933796\n",
      " 0.99957025 0.99978815 0.99995751 0.99998033 0.99999601 1.        ]\n"
     ]
    }
   ],
   "source": [
    "# Apply PCA with the selected number of components\n",
    "pca = PCA(n_components=30)\n",
    "X_train_pca = pca.fit_transform(data)\n",
    "X_test_pca = pca.transform(data)\n",
    "\n",
    "cumulative_var_Thirty = np.cumsum(pca.explained_variance_ratio_)\n",
    "\n",
    "print(np.cumsum(pca.explained_variance_ratio_))"
   ]
  },
  {
   "cell_type": "code",
   "execution_count": 39,
   "metadata": {},
   "outputs": [
    {
     "name": "stdout",
     "output_type": "stream",
     "text": [
      "[0.45325397 0.66243475 0.75231697 0.81586258 0.86988808 0.91093313\n",
      " 0.93063899 0.94312068 0.95307878 0.9617209  0.97014786 0.97720906\n",
      " 0.98334399 0.98794974 0.99054232]\n"
     ]
    }
   ],
   "source": [
    "print(cumulative_variance_ratio)\n",
    "\n",
    "cumulative_variance_ratio = cumulative_variance_ratio * 100\n",
    "\n",
    "cumulative_var_Thirty = cumulative_var_Thirty * 100"
   ]
  },
  {
   "cell_type": "code",
   "execution_count": 40,
   "metadata": {},
   "outputs": [
    {
     "data": {
      "image/png": "[encoded data removed]",
      "text/plain": [
       "<Figure size 640x480 with 1 Axes>"
      ]
     },
     "metadata": {},
     "output_type": "display_data"
    }
   ],
   "source": [
    "plt.plot(range(len(cumulative_var_Thirty)), cumulative_var_Thirty)\n",
    "\n",
    "plt.show()"
   ]
  }
 ],
 "metadata": {
  "kernelspec": {
   "display_name": "Python 3 (ipykernel)",
   "language": "python",
   "name": "python3"
  }
 },
 "nbformat": 4,
 "nbformat_minor": 2
}
