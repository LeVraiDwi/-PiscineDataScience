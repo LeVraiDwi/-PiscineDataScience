{
 "cells": [
  {
   "cell_type": "code",
   "execution_count": 156,
   "metadata": {},
   "outputs": [],
   "source": [
    "import sqlalchemy\n",
    "import pandas as pd\n",
    "import matplotlib.pyplot as plt\n",
    "import matplotlib.dates as mdates\n",
    "import numpy as np\n",
    "import matplotlib.ticker as ticker \n",
    "from sklearn.cluster import KMeans\n",
    "from datetime import datetime\n",
    "from pytz import timezone\n",
    "import seaborn as sn\n",
    "from sklearn.preprocessing import StandardScaler\n",
    "from sklearn.decomposition import PCA\n",
    "from sklearn.linear_model import LinearRegression"
   ]
  },
  {
   "cell_type": "code",
   "execution_count": 155,
   "metadata": {},
   "outputs": [
    {
     "name": "stdout",
     "output_type": "stream",
     "text": [
      "     Sensitivity  Hability  Strength   Power  Agility  Dexterity  Awareness  \\\n",
      "0         11.420     20.38     77.58   386.1  0.14250    0.28390    0.24140   \n",
      "1         18.250     19.98    119.60  1040.0  0.09463    0.10900    0.11270   \n",
      "2         14.680     20.13     94.74   684.5  0.09867    0.07200    0.07395   \n",
      "3         13.540     14.36     87.46   566.3  0.09779    0.08129    0.06664   \n",
      "4         15.340     14.26    102.50   704.4  0.10730    0.21350    0.20770   \n",
      "..           ...       ...       ...     ...      ...        ...        ...   \n",
      "166        9.423     27.88     59.26   271.3  0.08123    0.04971    0.00000   \n",
      "167       14.590     22.68     96.39   657.1  0.08473    0.13300    0.10290   \n",
      "168       20.920     25.09    143.00  1347.0  0.10990    0.22360    0.31740   \n",
      "169       16.600     28.08    108.30   858.1  0.08455    0.10230    0.09251   \n",
      "170        7.760     24.54     47.92   181.0  0.05263    0.04362    0.00000   \n",
      "\n",
      "     Prescience  Reactivity  Midi-chlorien  ...  Recovery  Evade   Stims  \\\n",
      "0       0.10520      0.2597        0.09744  ...    14.910  26.50   98.87   \n",
      "1       0.07400      0.1794        0.05742  ...    22.880  27.66  153.20   \n",
      "2       0.05259      0.1586        0.05922  ...    19.070  30.88  123.40   \n",
      "3       0.04781      0.1885        0.05766  ...    15.110  19.26   99.70   \n",
      "4       0.09756      0.2521        0.07032  ...    18.070  19.08  125.10   \n",
      "..          ...         ...            ...  ...       ...    ...     ...   \n",
      "166     0.00000      0.1742        0.06059  ...    10.490  34.24   66.50   \n",
      "167     0.03736      0.1454        0.06147  ...    15.480  27.27  105.90   \n",
      "168     0.14740      0.2149        0.06879  ...    24.290  29.41  179.10   \n",
      "169     0.05302      0.1590        0.05648  ...    18.980  34.12  126.70   \n",
      "170     0.00000      0.1587        0.05884  ...     9.456  30.37   59.16   \n",
      "\n",
      "     Sprint    Combo    Delay  Attunement  Empowered   Burst  Grasping  \n",
      "0     567.7  0.20980  0.86630      0.6869     0.2575  0.6638   0.17300  \n",
      "1    1606.0  0.14420  0.25760      0.3784     0.1932  0.3063   0.08368  \n",
      "2    1138.0  0.14640  0.18710      0.2914     0.1609  0.3029   0.08216  \n",
      "3     711.2  0.14400  0.17730      0.2390     0.1288  0.2977   0.07259  \n",
      "4     980.9  0.13900  0.59540      0.6305     0.2393  0.4667   0.09946  \n",
      "..      ...      ...      ...         ...        ...     ...       ...  \n",
      "166   330.6  0.10730  0.07158      0.0000     0.0000  0.2475   0.06969  \n",
      "167   733.5  0.10260  0.31710      0.3662     0.1105  0.2258   0.08004  \n",
      "168  1819.0  0.14070  0.41860      0.6599     0.2542  0.2929   0.09873  \n",
      "169  1124.0  0.11390  0.30940      0.3403     0.1418  0.2218   0.07820  \n",
      "170   268.6  0.08996  0.06444      0.0000     0.0000  0.2871   0.07039  \n",
      "\n",
      "[171 rows x 30 columns]\n"
     ]
    }
   ],
   "source": [
    "data = pd.read_csv('/app/knight/Test_knight.csv')\n",
    "\n",
    "print(data)"
   ]
  },
  {
   "cell_type": "code",
   "execution_count": 157,
   "metadata": {},
   "outputs": [],
   "source": [
    "def getVif(data):\n",
    "    toleranzTab, vIFTab = {}, {}\n",
    "\n",
    "\n",
    "    for col in data.columns:\n",
    "        independantData = data.columns.drop(col)\n",
    "        X, y = data[independantData], data[col]\n",
    "        coefDeterm = LinearRegression().fit(X, y).score(X, y)\n",
    "\n",
    "        vif = 1 / (1 - coefDeterm)\n",
    "        vIFTab[col] = vif\n",
    "\n",
    "        toleranz = 1 - coefDeterm\n",
    "        toleranzTab[col] = toleranz\n",
    "\n",
    "    Data_tab = pd.DataFrame({'tolerance': toleranzTab, 'vif': vIFTab})\n",
    "\n",
    "    return Data_tab"
   ]
  },
  {
   "cell_type": "code",
   "execution_count": 158,
   "metadata": {},
   "outputs": [
    {
     "name": "stdout",
     "output_type": "stream",
     "text": [
      "               tolerance          vif\n",
      "Sensitivity     0.000234  4282.499725\n",
      "Hability        0.053880    18.559728\n",
      "Strength        0.000250  4003.652047\n",
      "Power           0.002093   477.730519\n",
      "Agility         0.072923    13.713180\n",
      "Dexterity       0.017375    57.554993\n",
      "Awareness       0.010331    96.794082\n",
      "Prescience      0.010446    95.728833\n",
      "Reactivity      0.170633     5.860520\n",
      "Midi-chlorien   0.039131    25.555332\n",
      "Slash           0.006215   160.894576\n",
      "Push            0.121859     8.206184\n",
      "Pull            0.007513   133.100410\n",
      "Lightsaber      0.010575    94.559187\n",
      "Survival        0.107597     9.293929\n",
      "Repulse         0.024242    41.250309\n",
      "Friendship      0.029854    33.496386\n",
      "Blocking        0.079433    12.589272\n",
      "Deflection      0.111384     8.977914\n",
      "Mass            0.064258    15.562145\n",
      "Recovery        0.000732  1367.001571\n",
      "Evade           0.031769    31.477268\n",
      "Stims           0.000955  1047.514892\n",
      "Sprint          0.001651   605.793908\n",
      "Combo           0.048832    20.478328\n",
      "Delay           0.014734    67.869502\n",
      "Attunement      0.019929    50.176972\n",
      "Empowered       0.019668    50.842847\n",
      "Burst           0.061537    16.250516\n",
      "Grasping        0.037007    27.021861\n"
     ]
    }
   ],
   "source": [
    "\n",
    "Data_tab = getVif(data)\n",
    "print(Data_tab)"
   ]
  },
  {
   "cell_type": "code",
   "execution_count": 159,
   "metadata": {},
   "outputs": [
    {
     "name": "stdout",
     "output_type": "stream",
     "text": [
      "            tolerance        vif\n",
      "Hability     0.053880  18.559728\n",
      "Agility      0.072923  13.713180\n",
      "Reactivity   0.170633   5.860520\n",
      "Push         0.121859   8.206184\n",
      "Survival     0.107597   9.293929\n",
      "Blocking     0.079433  12.589272\n",
      "Deflection   0.111384   8.977914\n",
      "Mass         0.064258  15.562145\n",
      "Burst        0.061537  16.250516\n"
     ]
    }
   ],
   "source": [
    "filterData = Data_tab.loc[Data_tab['vif'] < 20]\n",
    "\n",
    "print(filterData)"
   ]
  },
  {
   "cell_type": "code",
   "execution_count": 160,
   "metadata": {},
   "outputs": [],
   "source": [
    "data = data[filterData.index]\n",
    "\n",
    "Data_tab = getVif(data)\n"
   ]
  },
  {
   "cell_type": "code",
   "execution_count": 161,
   "metadata": {},
   "outputs": [
    {
     "name": "stdout",
     "output_type": "stream",
     "text": [
      "            tolerance       vif\n",
      "Hability     0.629372  1.588884\n",
      "Agility      0.497179  2.011348\n",
      "Reactivity   0.293147  3.411259\n",
      "Push         0.378523  2.641844\n",
      "Survival     0.355888  2.809871\n",
      "Blocking     0.523176  1.911402\n",
      "Deflection   0.314043  3.184275\n",
      "Mass         0.493564  2.026078\n",
      "Burst        0.240075  4.165357\n"
     ]
    }
   ],
   "source": [
    "print(Data_tab)"
   ]
  }
 ],
 "metadata": {
  "kernelspec": {
   "display_name": "Python 3 (ipykernel)",
   "language": "python",
   "name": "python3"
  },
  "language_info": {
   "codemirror_mode": {
    "name": "ipython",
    "version": 3
   },
   "file_extension": ".py",
   "mimetype": "text/x-python",
   "name": "python",
   "nbconvert_exporter": "python",
   "pygments_lexer": "ipython3",
   "version": "3.8.20"
  }
 },
 "nbformat": 4,
 "nbformat_minor": 2
}
